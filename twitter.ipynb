{
 "cells": [
  {
   "cell_type": "code",
   "execution_count": 121,
   "metadata": {
    "collapsed": true
   },
   "outputs": [],
   "source": [
    "#!/usr/bin/env python"
   ]
  },
  {
   "cell_type": "code",
   "execution_count": 122,
   "metadata": {
    "collapsed": false
   },
   "outputs": [
    {
     "data": {
      "text/plain": [
       "'\\nUses Twitter API to grab info \\n\\nUses Twython module to access Twitter API  \\n'"
      ]
     },
     "execution_count": 122,
     "metadata": {},
     "output_type": "execute_result"
    }
   ],
   "source": [
    "\"\"\"\n",
    "Uses Twitter API to grab info \n",
    "\n",
    "Uses Twython module to access Twitter API  \n",
    "\"\"\""
   ]
  },
  {
   "cell_type": "code",
   "execution_count": 123,
   "metadata": {
    "collapsed": false
   },
   "outputs": [],
   "source": [
    "import sys\n",
    "import string\n",
    "import simplejson\n",
    "import pandas as pd\n",
    "import numpy as np \n",
    "from twython import Twython"
   ]
  },
  {
   "cell_type": "code",
   "execution_count": 124,
   "metadata": {
    "collapsed": false
   },
   "outputs": [],
   "source": [
    "import datetime\n",
    "now=datetime.datetime.now()\n",
    "day=int(now.day)\n",
    "month=int(now.month)\n",
    "year=int(now.year)\n",
    "file_name=\"twitter_user_data_%i%02i%02i.csv\" % (year,month,day)"
   ]
  },
  {
   "cell_type": "code",
   "execution_count": 125,
   "metadata": {
    "collapsed": false
   },
   "outputs": [],
   "source": [
    "t=Twython(app_key='SA8wm7cJ4Qg35LwBZD8iBtH9S'\n",
    "       , app_secret='KXVAj7p31i2udFwVUWSgkmj9uXi3zzIMRuOk7gnxSq0RRTrbz6'\n",
    "       ,oauth_token='2239500280-cKIyrpZRzuydXCHtJ0lM1vujRfTg9sjJt9ZhsXh'\n",
    "       ,oauth_token_secret='zHproYfy2Q2glyxywOLEov9cTd7E1eCjOEmLUaFuInDkv')"
   ]
  },
  {
   "cell_type": "code",
   "execution_count": 126,
   "metadata": {
    "collapsed": true
   },
   "outputs": [],
   "source": [
    "ids=['HmartinFr','jean_patry','HenrietteDR','FlorentOtt','amande_pistache','Chloebn90','KynapseData']"
   ]
  },
  {
   "cell_type": "code",
   "execution_count": 127,
   "metadata": {
    "collapsed": false
   },
   "outputs": [],
   "source": [
    "users=t.lookup_user(screen_name=ids)"
   ]
  },
  {
   "cell_type": "code",
   "execution_count": 128,
   "metadata": {
    "collapsed": false
   },
   "outputs": [],
   "source": [
    "user=t.show_user(screen_name=\"HmartinFr\")"
   ]
  },
  {
   "cell_type": "code",
   "execution_count": 129,
   "metadata": {
    "collapsed": false
   },
   "outputs": [
    {
     "name": "stdout",
     "output_type": "stream",
     "text": [
      "['id', 'screen_name', 'name', 'created_at', 'url', 'followers_count', 'friends_count', 'statuses_count', 'favourites_count', 'listed_count', 'description', 'entities', 'location', 'lang']\n"
     ]
    }
   ],
   "source": [
    "fields=\"id screen_name name created_at url followers_count \\\n",
    "friends_count statuses_count favourites_count listed_count \\\n",
    "description entities location lang\".split()\n",
    "print(fields)"
   ]
  },
  {
   "cell_type": "code",
   "execution_count": 130,
   "metadata": {
    "collapsed": false
   },
   "outputs": [],
   "source": [
    "df=pd.DataFrame(index=np.arange(len(ids)),columns=fields)"
   ]
  },
  {
   "cell_type": "code",
   "execution_count": 131,
   "metadata": {
    "collapsed": false
   },
   "outputs": [],
   "source": [
    "i=0\n",
    "for entry in users:\n",
    "\n",
    "    for f in fields:\n",
    "\n",
    "        df.ix[i][f]=entry[f]\n",
    "    \n",
    "    i=i+1\n"
   ]
  },
  {
   "cell_type": "code",
   "execution_count": 132,
   "metadata": {
    "collapsed": false
   },
   "outputs": [
    {
     "data": {
      "text/html": [
       "<div>\n",
       "<table border=\"1\" class=\"dataframe\">\n",
       "  <thead>\n",
       "    <tr style=\"text-align: right;\">\n",
       "      <th></th>\n",
       "      <th>id</th>\n",
       "      <th>screen_name</th>\n",
       "      <th>name</th>\n",
       "      <th>created_at</th>\n",
       "      <th>url</th>\n",
       "      <th>followers_count</th>\n",
       "      <th>friends_count</th>\n",
       "      <th>statuses_count</th>\n",
       "      <th>favourites_count</th>\n",
       "      <th>listed_count</th>\n",
       "      <th>description</th>\n",
       "      <th>entities</th>\n",
       "      <th>location</th>\n",
       "      <th>lang</th>\n",
       "    </tr>\n",
       "  </thead>\n",
       "  <tbody>\n",
       "    <tr>\n",
       "      <th>0</th>\n",
       "      <td>2239500280</td>\n",
       "      <td>HmartinFr</td>\n",
       "      <td>Hugo Martin</td>\n",
       "      <td>Mon Dec 23 08:43:36 +0000 2013</td>\n",
       "      <td>https://t.co/5O4kjpmzCr</td>\n",
       "      <td>900</td>\n",
       "      <td>1031</td>\n",
       "      <td>875</td>\n",
       "      <td>787</td>\n",
       "      <td>45</td>\n",
       "      <td>#Tech #Data #MachineLearning #Digital #CX #Tel...</td>\n",
       "      <td>{'url': {'urls': [{'indices': [0, 23], 'displa...</td>\n",
       "      <td>Paris</td>\n",
       "      <td>fr</td>\n",
       "    </tr>\n",
       "    <tr>\n",
       "      <th>1</th>\n",
       "      <td>488284389</td>\n",
       "      <td>jean_patry</td>\n",
       "      <td>Jean Patry</td>\n",
       "      <td>Fri Feb 10 08:55:36 +0000 2012</td>\n",
       "      <td>None</td>\n",
       "      <td>730</td>\n",
       "      <td>279</td>\n",
       "      <td>545</td>\n",
       "      <td>596</td>\n",
       "      <td>21</td>\n",
       "      <td>creative mind for @Quik_App &amp; @WriteLegend by ...</td>\n",
       "      <td>{'description': {'urls': [{'indices': [88, 111...</td>\n",
       "      <td>Paris</td>\n",
       "      <td>fr</td>\n",
       "    </tr>\n",
       "    <tr>\n",
       "      <th>2</th>\n",
       "      <td>401955854</td>\n",
       "      <td>HenrietteDR</td>\n",
       "      <td>Henriette DR</td>\n",
       "      <td>Mon Oct 31 10:24:58 +0000 2011</td>\n",
       "      <td>https://t.co/NEjgDwAo4W</td>\n",
       "      <td>598</td>\n",
       "      <td>867</td>\n",
       "      <td>1582</td>\n",
       "      <td>603</td>\n",
       "      <td>58</td>\n",
       "      <td>Je travaille @reputationsquad et je connais bi...</td>\n",
       "      <td>{'url': {'urls': [{'indices': [0, 23], 'displa...</td>\n",
       "      <td>Paris, Ile Maurice</td>\n",
       "      <td>fr</td>\n",
       "    </tr>\n",
       "    <tr>\n",
       "      <th>3</th>\n",
       "      <td>3228304280</td>\n",
       "      <td>FlorentOtt</td>\n",
       "      <td>Florent OTT</td>\n",
       "      <td>Wed May 27 14:50:48 +0000 2015</td>\n",
       "      <td>None</td>\n",
       "      <td>39</td>\n",
       "      <td>180</td>\n",
       "      <td>308</td>\n",
       "      <td>337</td>\n",
       "      <td>7</td>\n",
       "      <td></td>\n",
       "      <td>{'description': {'urls': []}}</td>\n",
       "      <td></td>\n",
       "      <td>en</td>\n",
       "    </tr>\n",
       "    <tr>\n",
       "      <th>4</th>\n",
       "      <td>2223197760</td>\n",
       "      <td>amande_pistache</td>\n",
       "      <td>Gary Wild</td>\n",
       "      <td>Sat Nov 30 14:34:46 +0000 2013</td>\n",
       "      <td>None</td>\n",
       "      <td>48</td>\n",
       "      <td>81</td>\n",
       "      <td>81</td>\n",
       "      <td>17</td>\n",
       "      <td>14</td>\n",
       "      <td></td>\n",
       "      <td>{'description': {'urls': []}}</td>\n",
       "      <td>somewhere</td>\n",
       "      <td>fr</td>\n",
       "    </tr>\n",
       "    <tr>\n",
       "      <th>5</th>\n",
       "      <td>3212132907</td>\n",
       "      <td>Chloebn90</td>\n",
       "      <td>Chloé Bounader</td>\n",
       "      <td>Mon Apr 27 10:01:45 +0000 2015</td>\n",
       "      <td>None</td>\n",
       "      <td>8</td>\n",
       "      <td>47</td>\n",
       "      <td>2</td>\n",
       "      <td>6</td>\n",
       "      <td>0</td>\n",
       "      <td></td>\n",
       "      <td>{'description': {'urls': []}}</td>\n",
       "      <td></td>\n",
       "      <td>en</td>\n",
       "    </tr>\n",
       "    <tr>\n",
       "      <th>6</th>\n",
       "      <td>4784041212</td>\n",
       "      <td>KynapseData</td>\n",
       "      <td>Kynapse</td>\n",
       "      <td>Tue Jan 19 14:50:25 +0000 2016</td>\n",
       "      <td>https://t.co/NgP00Ys6r2</td>\n",
       "      <td>266</td>\n",
       "      <td>672</td>\n",
       "      <td>317</td>\n",
       "      <td>115</td>\n",
       "      <td>45</td>\n",
       "      <td>Kynapse est un cabinet de conseil spécialisé e...</td>\n",
       "      <td>{'url': {'urls': [{'indices': [0, 23], 'displa...</td>\n",
       "      <td>Ile-de-France, France</td>\n",
       "      <td>fr</td>\n",
       "    </tr>\n",
       "  </tbody>\n",
       "</table>\n",
       "</div>"
      ],
      "text/plain": [
       "           id      screen_name            name  \\\n",
       "0  2239500280        HmartinFr     Hugo Martin   \n",
       "1   488284389       jean_patry      Jean Patry   \n",
       "2   401955854      HenrietteDR    Henriette DR   \n",
       "3  3228304280       FlorentOtt     Florent OTT   \n",
       "4  2223197760  amande_pistache       Gary Wild   \n",
       "5  3212132907        Chloebn90  Chloé Bounader   \n",
       "6  4784041212      KynapseData         Kynapse   \n",
       "\n",
       "                       created_at                      url followers_count  \\\n",
       "0  Mon Dec 23 08:43:36 +0000 2013  https://t.co/5O4kjpmzCr             900   \n",
       "1  Fri Feb 10 08:55:36 +0000 2012                     None             730   \n",
       "2  Mon Oct 31 10:24:58 +0000 2011  https://t.co/NEjgDwAo4W             598   \n",
       "3  Wed May 27 14:50:48 +0000 2015                     None              39   \n",
       "4  Sat Nov 30 14:34:46 +0000 2013                     None              48   \n",
       "5  Mon Apr 27 10:01:45 +0000 2015                     None               8   \n",
       "6  Tue Jan 19 14:50:25 +0000 2016  https://t.co/NgP00Ys6r2             266   \n",
       "\n",
       "  friends_count statuses_count favourites_count listed_count  \\\n",
       "0          1031            875              787           45   \n",
       "1           279            545              596           21   \n",
       "2           867           1582              603           58   \n",
       "3           180            308              337            7   \n",
       "4            81             81               17           14   \n",
       "5            47              2                6            0   \n",
       "6           672            317              115           45   \n",
       "\n",
       "                                         description  \\\n",
       "0  #Tech #Data #MachineLearning #Digital #CX #Tel...   \n",
       "1  creative mind for @Quik_App & @WriteLegend by ...   \n",
       "2  Je travaille @reputationsquad et je connais bi...   \n",
       "3                                                      \n",
       "4                                                      \n",
       "5                                                      \n",
       "6  Kynapse est un cabinet de conseil spécialisé e...   \n",
       "\n",
       "                                            entities               location  \\\n",
       "0  {'url': {'urls': [{'indices': [0, 23], 'displa...                  Paris   \n",
       "1  {'description': {'urls': [{'indices': [88, 111...                  Paris   \n",
       "2  {'url': {'urls': [{'indices': [0, 23], 'displa...     Paris, Ile Maurice   \n",
       "3                      {'description': {'urls': []}}                          \n",
       "4                      {'description': {'urls': []}}              somewhere   \n",
       "5                      {'description': {'urls': []}}                          \n",
       "6  {'url': {'urls': [{'indices': [0, 23], 'displa...  Ile-de-France, France   \n",
       "\n",
       "  lang  \n",
       "0   fr  \n",
       "1   fr  \n",
       "2   fr  \n",
       "3   en  \n",
       "4   fr  \n",
       "5   en  \n",
       "6   fr  "
      ]
     },
     "execution_count": 132,
     "metadata": {},
     "output_type": "execute_result"
    }
   ],
   "source": [
    "df"
   ]
  },
  {
   "cell_type": "code",
   "execution_count": 115,
   "metadata": {
    "collapsed": true
   },
   "outputs": [],
   "source": [
    "df.to_csv(file_name)"
   ]
  }
 ],
 "metadata": {
  "kernelspec": {
   "display_name": "Python 3",
   "language": "python",
   "name": "python3"
  },
  "language_info": {
   "codemirror_mode": {
    "name": "ipython",
    "version": 3
   },
   "file_extension": ".py",
   "mimetype": "text/x-python",
   "name": "python",
   "nbconvert_exporter": "python",
   "pygments_lexer": "ipython3",
   "version": "3.5.2"
  }
 },
 "nbformat": 4,
 "nbformat_minor": 2
}
