{
 "cells": [
  {
   "cell_type": "code",
   "execution_count": null,
   "metadata": {
    "collapsed": true
   },
   "outputs": [],
   "source": [
    "#!/usr/bin/env python"
   ]
  },
  {
   "cell_type": "code",
   "execution_count": null,
   "metadata": {
    "collapsed": true
   },
   "outputs": [],
   "source": [
    "\"\"\"\n",
    "Uses Twitter API to grab info \n",
    "\n",
    "Uses Twython module to access Twitter API  \n",
    "\"\"\""
   ]
  },
  {
   "cell_type": "code",
   "execution_count": null,
   "metadata": {
    "collapsed": false
   },
   "outputs": [],
   "source": [
    "import sys\n",
    "import string\n",
    "import simplejson\n",
    "from twython import Twython"
   ]
  },
  {
   "cell_type": "code",
   "execution_count": null,
   "metadata": {
    "collapsed": false
   },
   "outputs": [],
   "source": [
    "import datetime\n",
    "now=datetime.datetime.now()\n",
    "day=int(now.day)\n",
    "month=int(now.month)\n",
    "year=int(now.year)\n"
   ]
  },
  {
   "cell_type": "code",
   "execution_count": null,
   "metadata": {
    "collapsed": false
   },
   "outputs": [],
   "source": [
    "now"
   ]
  },
  {
   "cell_type": "code",
   "execution_count": null,
   "metadata": {
    "collapsed": false
   },
   "outputs": [],
   "source": [
    "t=Twython(app_key='SA8wm7cJ4Qg35LwBZD8iBtH9S'\n",
    "       , app_secret='KXVAj7p31i2udFwVUWSgkmj9uXi3zzIMRuOk7gnxSq0RRTrbz6'\n",
    "       ,oauth_token='2239500280-cKIyrpZRzuydXCHtJ0lM1vujRfTg9sjJt9ZhsXh'\n",
    "       ,oauth_token_secret='zHproYfy2Q2glyxywOLEov9cTd7E1eCjOEmLUaFuInDkv')"
   ]
  },
  {
   "cell_type": "code",
   "execution_count": null,
   "metadata": {
    "collapsed": false
   },
   "outputs": [],
   "source": [
    "ids=\"HmartinFr,jean_patry,HenrietteDR,FlorentOtt,amande_pistache,Chloebn90\""
   ]
  },
  {
   "cell_type": "code",
   "execution_count": null,
   "metadata": {
    "collapsed": false
   },
   "outputs": [],
   "source": [
    "users=t.lookup_user(screen_name=ids)"
   ]
  },
  {
   "cell_type": "code",
   "execution_count": null,
   "metadata": {
    "collapsed": false
   },
   "outputs": [],
   "source": [
    "user=t.show_user(screen_name=ids)"
   ]
  },
  {
   "cell_type": "code",
   "execution_count": null,
   "metadata": {
    "collapsed": false
   },
   "outputs": [],
   "source": [
    "outfn=\"twitter_user_data_%i%02i%02i.txt\" % (year,month,day)\n",
    "outfn"
   ]
  },
  {
   "cell_type": "code",
   "execution_count": null,
   "metadata": {
    "collapsed": false
   },
   "outputs": [],
   "source": [
    "fields=\"id screen_name name created_at url followers_count \\\n",
    "friends_count statuses_count favourites_count listed_count \\\n",
    "contributors enabled description location lang\".split()"
   ]
  },
  {
   "cell_type": "code",
   "execution_count": null,
   "metadata": {
    "collapsed": true
   },
   "outputs": [],
   "source": [
    "fields_a_tester=\"id screen_name name created_at url followers_count \\\n",
    "friends_count statuses_count favourites_count listed_count \\\n",
    "contributors enabled description location lang\""
   ]
  }
 ],
 "metadata": {
  "kernelspec": {
   "display_name": "Python 3",
   "language": "python",
   "name": "python3"
  },
  "language_info": {
   "codemirror_mode": {
    "name": "ipython",
    "version": 3
   },
   "file_extension": ".py",
   "mimetype": "text/x-python",
   "name": "python",
   "nbconvert_exporter": "python",
   "pygments_lexer": "ipython3",
   "version": "3.5.2"
  }
 },
 "nbformat": 4,
 "nbformat_minor": 2
}
